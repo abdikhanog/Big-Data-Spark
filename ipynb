{
 "cells": [
  {
   "cell_type": "markdown",
   "metadata": {
    "colab_type": "text",
    "id": "x3aJEGS5keqH"
   },
   "source": [
    "# Coursework Part 1: Detecting Spam with Spark\n",
    "\n",
    "These are the tasks for IN432 Big Data coursework 2019, part 1.  \n",
    "\n",
    "This coursework is about classification of e-mail messages as spam or non-spam in Spark. We will go through the whole process from loading and preprocessing to training and testing classifiers in a distributed way in Spark. We wil use the techniques shown in the lextures and labs. I will also introduce here a few additional elements, such as the NLTK and some of the preprocessing and machine learning functions that come with Spark. You are not expected to need anything beyond the material handed out so far and in some cases the Spark documentation, to which I have put links in this document.  \n",
    "\n",
    "The structure is similar to the lab sheets. I provide a code structure with gaps that you are supposed to file. In addition you should run 2 small experiments and comment on the results. The lines where you are supposed to add code or take another action are marked with \">>>\" \n",
    "please leave the \">>>\" in the text, comment out that line, and write your own code in the next line using a copy of that line as a starting point.\n",
    "\n",
    "I have added numerous comments in text cells and the code cells to guid you through the program. Please read them carefully and ask if anything is unclear. \n",
    "\n",
    "Once you have completed the tasks, don't delete the outpus, but downlaod the notebook (outputs will be included) and upload it into the coursework submission area on Moodle. The coursework part counts for 50% or the total coursework."
   ]
  },
  {
   "cell_type": "markdown",
   "metadata": {
    "colab_type": "text",
    "id": "CdFlCqCFkeqL"
   },
   "source": [
    "## Load and prepare the data\n",
    "\n",
    "We will use the lingspam dataset in this coursework (see [http://csmining.org/index.php/ling-spam-datasets.html](http://csmining.org/index.php/ling-spam-datasets.html) for more information).\n",
    "\n",
    "The next cells only prepare the machine, as usual."
   ]
  },
  {
   "cell_type": "code",
   "execution_count": 0,
   "metadata": {
    "colab": {
     "base_uri": "https://localhost:8080/",
     "height": 122
    },
    "colab_type": "code",
    "id": "dHGQ78mTkeqO",
    "outputId": "acb9d4f3-962b-4bf2-846d-55a0be0d54cb"
   },
   "outputs": [
    {
     "name": "stdout",
     "output_type": "stream",
     "text": [
      "Go to this URL in a browser: https://accounts.google.com/o/oauth2/auth?client_id=947318989803-6bn6qk8qdgf4n4g3pfee6491hc0brc4i.apps.googleusercontent.com&redirect_uri=urn%3Aietf%3Awg%3Aoauth%3A2.0%3Aoob&scope=email%20https%3A%2F%2Fwww.googleapis.com%2Fauth%2Fdocs.test%20https%3A%2F%2Fwww.googleapis.com%2Fauth%2Fdrive%20https%3A%2F%2Fwww.googleapis.com%2Fauth%2Fdrive.photos.readonly%20https%3A%2F%2Fwww.googleapis.com%2Fauth%2Fpeopleapi.readonly&response_type=code\n",
      "\n",
      "Enter your authorization code:\n",
      "··········\n",
      "Mounted at /content/drive\n"
     ]
    }
   ],
   "source": [
    "# Load the Drive helper and mount\n",
    "from google.colab import drive\n",
    "\n",
    "# This will prompt for authorization.\n",
    "drive.mount('/content/drive')"
   ]
  },
  {
   "cell_type": "code",
   "execution_count": 0,
   "metadata": {
    "colab": {
     "base_uri": "https://localhost:8080/",
     "height": 241
    },
    "colab_type": "code",
    "id": "0-hhNOS0keqW",
    "outputId": "aacf38be-45b4-4add-f677-6e914413f08b"
   },
   "outputs": [
    {
     "name": "stdout",
     "output_type": "stream",
     "text": [
      "Collecting pyspark\n",
      "\u001b[?25l  Downloading https://files.pythonhosted.org/packages/88/01/a37e827c2d80c6a754e40e99b9826d978b55254cc6c6672b5b08f2e18a7f/pyspark-2.4.0.tar.gz (213.4MB)\n",
      "\u001b[K    100% |████████████████████████████████| 213.4MB 79kB/s \n",
      "\u001b[?25hCollecting py4j==0.10.7 (from pyspark)\n",
      "\u001b[?25l  Downloading https://files.pythonhosted.org/packages/e3/53/c737818eb9a7dc32a7cd4f1396e787bd94200c3997c72c1dbe028587bd76/py4j-0.10.7-py2.py3-none-any.whl (197kB)\n",
      "\u001b[K    100% |████████████████████████████████| 204kB 27.7MB/s \n",
      "\u001b[?25hBuilding wheels for collected packages: pyspark\n",
      "  Building wheel for pyspark (setup.py) ... \u001b[?25ldone\n",
      "\u001b[?25h  Stored in directory: /root/.cache/pip/wheels/cd/54/c2/abfcc942eddeaa7101228ebd6127a30dbdf903c72db4235b23\n",
      "Successfully built pyspark\n",
      "Installing collected packages: py4j, pyspark\n",
      "Successfully installed py4j-0.10.7 pyspark-2.4.0\n"
     ]
    }
   ],
   "source": [
    "!pip install pyspark\n",
    "\n",
    "import pyspark\n",
    "sc = pyspark.SparkContext.getOrCreate()"
   ]
  },
  {
   "cell_type": "code",
   "execution_count": 0,
   "metadata": {
    "colab": {
     "base_uri": "https://localhost:8080/",
     "height": 629
    },
    "colab_type": "code",
    "id": "nncrHFdwqUmE",
    "outputId": "811cf14b-cc01-406e-d600-53d446a282e2"
   },
   "outputs": [
    {
     "name": "stdout",
     "output_type": "stream",
     "text": [
      "/content/drive/My Drive/BigData/data/lingspam_public\n",
      "This directory contains the Ling-Spam corpus, as described in the \n",
      "paper:\n",
      "\n",
      "I. Androutsopoulos, J. Koutsias, K.V. Chandrinos, George Paliouras, \n",
      "and C.D. Spyropoulos, \"An Evaluation of Naive Bayesian Anti-Spam \n",
      "Filtering\". In Potamias, G., Moustakis, V. and van Someren, M. (Eds.), \n",
      "Proceedings of the Workshop on Machine Learning in the New Information \n",
      "Age, 11th European Conference on Machine Learning (ECML 2000), \n",
      "Barcelona, Spain, pp. 9-17, 2000.\n",
      "\n",
      "There are four subdirectories, corresponding to four versions of \n",
      "the corpus:\n",
      "\n",
      "bare: Lemmatiser disabled, stop-list disabled.\n",
      "lemm: Lemmatiser enabled, stop-list disabled.\n",
      "lemm_stop: Lemmatiser enabled, stop-list enabled.\n",
      "stop: Lemmatiser disabled, stop-list enabled.\n",
      "\n",
      "Each one of these 4 directories contains 10 subdirectories (part1, \n",
      "..., part10). These correspond to the 10 partitions of the corpus \n",
      "that were used in the 10-fold experiments. In each repetition, one \n",
      "part was reserved for testing and the other 9 were used for training. \n",
      "\n",
      "Each one of the 10 subdirectories contains both spam and legitimate \n",
      "messages, one message in each file. Files whose names have the form\n",
      "spmsg*.txt are spam messages. All other files are legitimate messages.\n",
      "\n",
      "By obtaining a copy of this corpus you agree to acknowledge the use \n",
      "and origin of the corpus in any published work of yours that makes \n",
      "use of the corpus, and to notify the person below about this work.\n",
      "\n",
      "Ion Androutsopoulos \n",
      "http://www.aueb.gr/users/ion/\n",
      "Ling-Spam corpus last updated: July 17, 2000\n",
      "This file (readme.txt) last updated: July 30, 2003.\n"
     ]
    }
   ],
   "source": [
    "# We have a new dataset in directory BigData/data/lingspam_public .\n",
    "%cd /content/drive/My Drive/BigData/data/lingspam_public \n",
    "# the line above should output should show \"bare  lemm  lemm_stop  readme.txt  stop\"\n",
    "!cat readme.txt\n",
    "# the line above shows the content of the readme file, which explains the structrue of the dataset\n",
    "# Lemmatisation is a process similar to stemming"
   ]
  },
  {
   "cell_type": "markdown",
   "metadata": {
    "colab_type": "text",
    "id": "nb02XcMOkeqq"
   },
   "source": [
    "## Task 1) Read the dataset and create RDDs \n",
    "a) Start by reading the directory with text files from the file system (`/content/drive/My Drive/BigData/data/lingspam_public`). Load all text files per dirctory (part1,part2, ... ,part10) using `wholeTextFiles()`, which creates one RDD per part, containing tuples (filename,text). This is a good choice as the text files are small. (5%)\n",
    "\n",
    "b) We will use one of the RDDs as test set, the rest as training set. For the training set you need to create the union of the remaining RDDs. (5%)\n",
    "\n",
    "b) Remove the path and extension from the filename using the regular expression provided (5%).\n",
    "\n",
    "If the filename starts with 'spmsg' it is spam, otherwise it is not. We'll use that later to train a classifier. \n",
    "\n",
    "We will put the code in each cell into a function that we can reuse later. In this way we can develop the whole preprocessing with the smaller test set and apply it to the training set once we know that everything works. "
   ]
  },
  {
   "cell_type": "code",
   "execution_count": 0,
   "metadata": {
    "colab": {
     "base_uri": "https://localhost:8080/",
     "height": 207
    },
    "colab_type": "code",
    "id": "H7iF1lZukeqt",
    "outputId": "a6f8ef9e-3359-40be-992c-159cc69d2d1a"
   },
   "outputs": [
    {
     "name": "stdout",
     "output_type": "stream",
     "text": [
      "/content/drive/My Drive/BigData/data/lingspam_public\n",
      "bare  lemm  lemm_stop  readme.txt  stop\n",
      "[PosixPath('bare/part10'), PosixPath('bare/part9'), PosixPath('bare/part8'), PosixPath('bare/part7'), PosixPath('bare/part6'), PosixPath('bare/part5'), PosixPath('bare/part4'), PosixPath('bare/part3'), PosixPath('bare/part2'), PosixPath('bare/part1')]\n",
      "('len(rddList)', 10)\n",
      "[(u'file:/content/drive/My Drive/BigData/data/lingspam_public/bare/part9/8-817msg1.txt', u'Subject: disc : grammar in uk schools\\n\\ni was disturbed to find some traditional fallacies in geoffrey sampson \\'s discussion of the teaching of grammar in schools . though i no longer have a copy of prof . cameron \\'s original post , i do recall the essentials of it , and found that mr . sampson had passed over the valid point it was making in favour of a prescriptivist , \" back to basics \" defense of traditional grammatical education . prof . cameron is perfectly correct in ridiculing the inflexible , rote and prescriptive approach to grammar which is conventionally inflicted on students throughout the english speaking world . the issue of being able to use standard english ( or perhaps _ a _ standard english ) correctly is entirely separate from the reliance on traditional \" rules \" which are frequently unhelpful , and often grossly inaccurate . the rule regarding finishing sentences with prepositions , as one glaring example , is a total misunderstanding of both the history of english , and an unhelpful preoccupation for effective communication . > strikes me as akin to suggesting that teachers of > french should forget about teaching the past participle of \" vivre \" in > favour of getting their pupils to develop considered opinions about > the theories of derrida . though mr . sampson has used an interesting rhetorical image here , it is in fact a false analogy . teaching students to get a feel for the function of grammar and language is a far cry from teaching them gb theory or hpsg . an understanding of how sentences , clauses , verb tenses , adverbs , etc . actually function on a basic level is a very reasonable educational goal , and far more worthy then just creating a bunch of \" do n\\'t \" \\'s and \" never \" \\'s and calling that grammatical education . > beyond that , though , teaching orthography and grammar at school level > has a much broader educational value . one of the lessons we all have > to learn is that nothing big and worthwhile is ever achieved in this > life without careful attention to endless tedious and often arbitrary > details . at the risk of making a gross national stereotype , i feel compelled to quote george bernard shaw : \" the british believe that they are moral when they are merely uncomfortable . \" this notion that education ( or work , for that matter ) must be unpleasant to produce results is a puritanical relic . in my personal experience , the very successful people tend to be precisely the ones who know how to delegate , slough off or avoid wasting time with \" tedious and arbitrary details \" . ( please read the preceding paragraph with the tongue planted in the general vicinity of the cheek . ) in a spirit of greater seriousness though , i would like to second prof . cameron \\'s call to educators to abandon prescriptive , rule-based approaches to grammar , and embrace a more general approach based on a comprehension of more fluid and meaningful principles . i believe that the result would be students with a better grasp of the form and function of language rather than a shallow and inflexible mastery of facile rules . - - - - marc hamann\\n')]\n",
      "created the RDDs\n",
      "('testRDD.count(): ', 289)\n",
      "('testRDD.getNumPartitions()', 2)\n",
      "('testRDD.getStorageLevel()', StorageLevel(False, False, False, False, 1))\n",
      "('testRDD.take(1): ', [(u'3-1msg1', u'Subject: re : 2 . 882 s - > np np\\n\\n> date : sun , 15 dec 91 02 : 25 : 02 est > from : michael < mmorse @ vm1 . yorku . ca > > subject : re : 2 . 864 queries > > wlodek zadrozny asks if there is \" anything interesting \" to be said > about the construction \" s > np np \" . . . second , > and very much related : might we consider the construction to be a form > of what has been discussed on this list of late as reduplication ? the > logical sense of \" john mcnamara the name \" is tautologous and thus , at > that level , indistinguishable from \" well , well now , what have we here ? \" . to say that \\' john mcnamara the name \\' is tautologous is to give support to those who say that a logic-based semantics is irrelevant to natural language . in what sense is it tautologous ? it supplies the value of an attribute followed by the attribute of which it is the value . if in fact the value of the name-attribute for the relevant entity were \\' chaim shmendrik \\' , \\' john mcnamara the name \\' would be false . no tautology , this . ( and no reduplication , either . )\\n')])\n"
     ]
    }
   ],
   "source": [
    "from pathlib import Path\n",
    "import re\n",
    "\n",
    "def makeTestTrainRDDs(pathString):\n",
    "    \"\"\" Takes one of the four subdirectories of the lingspam dataset and returns two RDDs one each for testing and training. \"\"\"\n",
    "    # We should see10 parts that we can use for creating train and test sets.\n",
    "    p = Path(pathString) # gets a path object representing the current directory path.\n",
    "    dirs = list(p.iterdir()) # get the directories part1 ... part10. \n",
    "    print(dirs) # Print to check that you have the right directory. You can comment this out when checked. \n",
    "    rddList = [] # create a list for the RDDs\n",
    "    # now create an RDD for each 'part' directory and add them to rddList\n",
    "    for d in dirs: # iterate through the directories\n",
    "    # >>>     rdd = ... #>>> # read the files in the directory \n",
    "    # >>> ... #>>> append the RDD to the rddList\n",
    "      \n",
    "        rdd = sc.wholeTextFiles(str(d.absolute()))\n",
    "        rddList.append(rdd) #>>> append the RDD to the rddList\n",
    "    print('len(rddList)',len(rddList))  # we should now have 10 RDDs in the list # just for testing\n",
    "    print(rddList[1].take(1)) # just for testing, comment out when it works.\n",
    "    testRDD1 = rddList[9] # set the test set\n",
    "    trainRDD1 = rddList[0] # start the training set from 0 and \n",
    "    # now loop over the range from 1 to 9(exclusive) to create a union of the remaining RDDs\n",
    "    for i in range(1,9):\n",
    "        trainRDD1 = trainRDD1.union(rddList[i]) #>>> create a union of the current and the next \n",
    "            # RDD in the list, so that in the end we have a union of all parts 0-8. (9 ist used as test set)\n",
    "    # both RDDs should remove the paths and extensions from the filename. \n",
    "    #>>> This regular expression will do it: re.split('[/\\.]', fn_txt[0])[-2]\n",
    "    #>>> apply it to the filenames in train and test RDD with a lambda\n",
    "    testRDD2 = testRDD1.map(lambda fn_txt: (re.split('[/\\.]', fn_txt[0])[-2], fn_txt[1]))\n",
    "    trainRDD2 = trainRDD1.map(lambda fn_txt: (re.split('[/\\.]', fn_txt[0])[-2], fn_txt[1])) \n",
    "    return (trainRDD2,testRDD2)\n",
    "\n",
    "# this makes sure we are in the right directory\n",
    "%cd /content/drive/My Drive/BigData/data/lingspam_public \n",
    "# this should show \"bare  lemm  lemm_stop  readme.txt  stop\"\n",
    "!ls\n",
    "# the code below is for testing the function makeTestTrainRDDs\n",
    "trainRDD_testRDD = makeTestTrainRDDs('bare') # read from the 'bare' directory - this takes a bit of time\n",
    "(trainRDD,testRDD) = trainRDD_testRDD # unpack the returned tuple\n",
    "print('created the RDDs') # notify the user, so that we can figure out where things went wrong if they do.\n",
    "print('testRDD.count(): ',testRDD.count()) # should be ~291 \n",
    "#print('trainRDD.count(): ',trainRDD.count()) # should be ~2602 - commented out to save time as it takes some time to create RDD from all the files\n",
    "print('testRDD.getNumPartitions()',testRDD.getNumPartitions()) # normally 2 on Colab (single machine)\n",
    "print('testRDD.getStorageLevel()',testRDD.getStorageLevel()) # Serialized, 1x Replicated \n",
    "print('testRDD.take(1): ',testRDD.take(1)) # should be (filename,[tokens]) \n",
    "rdd1 = testRDD # use this for developemnt in the next tasks "
   ]
  },
  {
   "cell_type": "markdown",
   "metadata": {
    "colab_type": "text",
    "id": "oUKltxq5keqw"
   },
   "source": [
    "## Task 2) Tokenize and remove punctuation\n",
    "\n",
    "Now we need to split the words, a process called *tokenization* by linguists, and remove punctuation. \n",
    "\n",
    "We will use the Python [Natural Language Toolkit](http://www.nltk.org) *NLTK* to do the tokenization (rather than splitting ourselves, as these specialist tools usually do that better than we can ourselves). We use the NLTK function word_tokenize, see here for a code example: [http://www.nltk.org/book/ch03.html](http://www.nltk.org/book/ch03.html). 5%\n",
    "\n",
    "Then we will remove punctuation. There is no specific funtion for this, so we use a regular expression (see here for info [https://docs.python.org/3/library/re.html?highlight=re#module-re](https://docs.python.org/3/library/re.html?highlight=re#module-re)) in a list comprehension (here's a nice visual explanation: [http://treyhunner.com/2015/12/python-list-comprehensions-now-in-color/](http://treyhunner.com/2015/12/python-list-comprehensions-now-in-color/)). 5% \n",
    "\n",
    "We use a new technique here: we separate keys and values of the RDD, using the RDD functions `keys()` and `values()`, which yield each a new RDD. Then we process the values and *zip* them together with the keys again. See here for documentation: [http://spark.apache.org/docs/2.4.0/api/python/pyspark.html#pyspark.RDD.zip](http://spark.apache.org/docs/2.4.0/api/python/pyspark.html#pyspark.RDD.zip).  We wrap the whole sequence into one function `prepareTokenRDD` for later use. 5%"
   ]
  },
  {
   "cell_type": "code",
   "execution_count": 0,
   "metadata": {
    "colab": {
     "base_uri": "https://localhost:8080/",
     "height": 54
    },
    "colab_type": "code",
    "id": "AB_nfmhYkeqx",
    "outputId": "18744b79-dcfb-4f75-fd95-6a322a80eab8",
    "scrolled": true
   },
   "outputs": [
    {
     "name": "stdout",
     "output_type": "stream",
     "text": [
      "[(u'3-1msg1', [u'Subject', u':', u're', u':', u'2', u'882', u's', u'-', u'>', u'np', u'np', u'>', u'date', u':', u'sun', u'15', u'dec', u'91', u'02', u':', u'25', u':', u'02', u'est', u'>', u'from', u':', u'michael', u'<', u'mmorse', u'@', u'vm1', u'yorku', u'ca', u'>', u'>', u'subject', u':', u're', u':', u'2', u'864', u'queries', u'>', u'>', u'wlodek', u'zadrozny', u'asks', u'if', u'there', u'is', u'``', u'anything', u'interesting', u'``', u'to', u'be', u'said', u'>', u'about', u'the', u'construction', u'``', u's', u'>', u'np', u'np', u'``', u'second', u'>', u'and', u'very', u'much', u'related', u':', u'might', u'we', u'consider', u'the', u'construction', u'to', u'be', u'a', u'form', u'>', u'of', u'what', u'has', u'been', u'discussed', u'on', u'this', u'list', u'of', u'late', u'as', u'reduplication', u'the', u'>', u'logical', u'sense', u'of', u'``', u'john', u'mcnamara', u'the', u'name', u'``', u'is', u'tautologous', u'and', u'thus', u'at', u'>', u'that', u'level', u'indistinguishable', u'from', u'``', u'well', u'well', u'now', u'what', u'have', u'we', u'here', u'``', u'to', u'say', u'that', u\"'\", u'john', u'mcnamara', u'the', u'name', u\"'\", u'is', u'tautologous', u'is', u'to', u'give', u'support', u'to', u'those', u'who', u'say', u'that', u'a', u'logic-based', u'semantics', u'is', u'irrelevant', u'to', u'natural', u'language', u'in', u'what', u'sense', u'is', u'it', u'tautologous', u'it', u'supplies', u'the', u'value', u'of', u'an', u'attribute', u'followed', u'by', u'the', u'attribute', u'of', u'which', u'it', u'is', u'the', u'value', u'if', u'in', u'fact', u'the', u'value', u'of', u'the', u'name-attribute', u'for', u'the', u'relevant', u'entity', u'were', u\"'\", u'chaim', u'shmendrik', u\"'\", u\"'\", u'john', u'mcnamara', u'the', u'name', u\"'\", u'would', u'be', u'false', u'no', u'tautology', u'this', u'and', u'no', u'reduplication', u'either'])]\n"
     ]
    }
   ],
   "source": [
    "import nltk\n",
    "import re\n",
    "from nltk.corpus import stopwords\n",
    "\n",
    "def tokenize(text):\n",
    "    \"\"\" Apply the nltk.word_tokenize() method to our text, return the token list. \"\"\"\n",
    "    nltk.download('punkt') # this loads the standard NLTK tokenizer model \n",
    "    # it is important that this is done here in the function, as it needs to be done on every worker.\n",
    "    # If we do the download outside a this function, it would only be executed on the driver     \n",
    "## >>>    return ... # use the nltk function word_tokenize\n",
    "    return  nltk.word_tokenize(text)\n",
    "\n",
    "def removePunctuation(tokens):\n",
    "    \"\"\" Remove punctuation characters from all tokens in a provided list. \"\"\"\n",
    "    # this will remove all punctiation from string s: re.sub('[()\\[\\],.?!\";_]','',s)\n",
    "##>>>  tokens2 =  [...] # use a list comprehension to remove punctuaton\n",
    "    tokens2 = [re.sub('[()\\[\\],.?!\";_]','',s) for s in tokens]\n",
    "    return tokens2 \n",
    "def prepareTokenRDD(fn_txt_RDD):\n",
    "    \"\"\" Take an RDD with (filename,text) elements and transform it into a (filename,[token ...]) RDD without punctuation characters. \"\"\"\n",
    "    rdd_vals2 = fn_txt_RDD.values() # It's convenient to process only the values. \n",
    "    rdd_vals3 = rdd_vals2.map(tokenize) # Create a tokenised version of the values by mapping\n",
    "    rdd_vals4 = rdd_vals3.map(removePunctuation) # remove punctuation from the values\n",
    "    rdd_kv = fn_txt_RDD.keys().zip(rdd_vals4) # we zip the two RDDs together \n",
    "    # i.e. produce tuples with one itme from each RDD.\n",
    "    # This works because we have only applied mappings to the values, \n",
    "    # therefore the items in both RDDs are still aligned.\n",
    "    # now remove any empty value strings (i.e. length 0) that we may have created by removing punctiation.\n",
    "    # >>> now remove any empty strings (i.e. length 0) that we may have \n",
    "    # created by removing punctuation, and resulting entries without words left.\n",
    "    rdd_kvr = rdd_kv.map(lambda x: (x[0], [s for s in x[1] if len(s)>0])) #empty strings using RDD.map and a lambda. TIP len(s) gives you the lenght of string. \n",
    "    rdd_kvrf = rdd_kvr.filter(lambda x: len(x[1])>0) # remove items without tokens using RDD.filter and a lambda. \n",
    "    # >>> Question: why should this be filtering done after zipping the keys and values together?\n",
    "    # For preservation of mapping between values and their tokens, keys and values have to be zipped together before filtering occurs. \n",
    "    return rdd_kvrf\n",
    "\n",
    "rdd2 = prepareTokenRDD(rdd1) # Use a small RDD for testing.\n",
    "print(rdd2.take(1)) # For checking result of task 2. "
   ]
  },
  {
   "cell_type": "markdown",
   "metadata": {
    "colab_type": "text",
    "id": "bTnW5vfg5FFj"
   },
   "source": [
    "^ For preservation of mapping between values and their tokens, keys and values have to be zipped together before filtering occurs."
   ]
  },
  {
   "cell_type": "markdown",
   "metadata": {
    "colab_type": "text",
    "id": "q9HgRAEGkeq0"
   },
   "source": [
    "## Task 3) Creating normalised TF.IDF vectors of defined dimensionality, measure the effect of caching.\n",
    "\n",
    "We use the hashing trick to create fixed size TF vectors directly from the word list now (slightly different from the previous lab, where we used *(word,count)* pairs.). Write a bit of code as needed. (5%)\n",
    "\n",
    "Then we'll use the IDF and Normalizer functions provided by Spark. They use a slightly different pattern than RDD.map and reduce, have a look at the examples here in the documentation for Normalizer  and IDF:\n",
    "[http://spark.apache.org/docs/2.1.0/api/python/pyspark.mllib.html#pyspark.mllib.feature.Normalizer](http://spark.apache.org/docs/2.1.0/api/python/pyspark.mllib.html#pyspark.mllib.feature.Normalizer), [http://spark.apache.org/docs/2.1.0/api/python/pyspark.mllib.html#pyspark.mllib.feature.IDF](http://spark.apache.org/docs/2.1.0/api/python/pyspark.mllib.html#pyspark.mllib.feature.IDF) (5%)\n",
    "\n",
    "We want control of the dimensionality in the `normTFIDF` function, so we introduce an argument into our functions that enables us to vary dimensionalty later. Here is also an opportunity to benefit from caching, i.e. persisting the RDD after use, so that it will not be recomputed.  (5%)"
   ]
  },
  {
   "cell_type": "code",
   "execution_count": 0,
   "metadata": {
    "colab": {
     "base_uri": "https://localhost:8080/",
     "height": 34
    },
    "colab_type": "code",
    "id": "Qo_YQKAokeq0",
    "outputId": "f064a17f-cc13-4e6f-c095-ade65fb45562"
   },
   "outputs": [
    {
     "name": "stdout",
     "output_type": "stream",
     "text": [
      "[(u'3-1msg1', DenseVector([0.5982, 0.0, 0.2114, 0.1057, 0.0, 0.0, 0.5678, 0.0, 0.5137, 0.0]))]\n"
     ]
    }
   ],
   "source": [
    "from pyspark import StorageLevel\n",
    "\n",
    "# use the hashing trick to create a fixed-size vector from a word list\n",
    "def hashing_vectorize(text,N): # arguments: the list and the size of the output vector\n",
    "    v = [0] * N  # create vector of 0s\n",
    "    for word in text: # iterate through the words \n",
    "#>>>              # get the hash value \n",
    "#>>>              # add 1 at the hashed address \n",
    "                   h = hash(word)\n",
    "                   v[h % N] = v[h % N] + 1\n",
    "    return v # return hashed word vector\n",
    "\n",
    "from pyspark.mllib.feature import IDF, Normalizer\n",
    "\n",
    "def normTFIDF(fn_tokens_RDD, vecDim, caching=True):\n",
    "    keysRDD = fn_tokens_RDD.keys()\n",
    "    tokensRDD = fn_tokens_RDD.values()\n",
    "    tfVecRDD = tokensRDD.map(lambda tokens: hashing_vectorize(tokens,vecDim)) #>>> passing the vecDim value. TIP: you need a lambda. \n",
    "    if caching:\n",
    "        tfVecRDD.persist(StorageLevel.MEMORY_ONLY) # since we will read more than once, caching in Memory will make things quicker.\n",
    "    idf = IDF() # create IDF object\n",
    "    idfModel = idf.fit(tfVecRDD) # calculate IDF values\n",
    "    tfIdfRDD = idfModel.transform(tfVecRDD) # 2nd pass needed (see lecture slides), transforms RDD\n",
    "#>>>    norm = ... # create a Normalizer object like in the example linked above\n",
    "#>>>    normTfIdfRDD = norm. ... # and apply it to the tfIdfRDD \n",
    "#>>>    zippedRDD = ... # zip the keys and values together\n",
    "    norm = Normalizer()\n",
    "    normTfIdfRDD = norm.transform(tfIdfRDD)\n",
    "    zippedRDD = keysRDD.zip(normTfIdfRDD)\n",
    "    return zippedRDD\n",
    "\n",
    "testDim = 10 # too small for good accuracy, but OK for testing\n",
    "rdd3 = normTFIDF(rdd2, testDim, True) # test our\n",
    "print(rdd3.take(1)) # we should now have tuples with ('filename',[N-dim vector])\n",
    "# e.g. [('9-1142msg1', DenseVector([0.0, 0.0, 0.0, 0.0, 0.4097, 0.0, 0.0, 0.0, 0.9122, 0.0]))]"
   ]
  },
  {
   "cell_type": "markdown",
   "metadata": {
    "colab_type": "text",
    "id": "datJXbSNkeq2"
   },
   "source": [
    "### Task 3a) Caching experiment\n",
    "\n",
    "The normTFIDF lets us switch caching on or off. Write a bit of code that measures the effect of caching by takes the time for both options. Use the time function as shown in lecture 3, slide 47. Remember that you need to call an action on an RDD to trigger full execution. \n",
    "\n",
    "Add a short comment on the result (why is there an effect, why of the size that it is?). Remember that this is wall clock time, i.e. you may get noisy results and they may change depending on the system state (e.g. how often this test has been run). (10%)"
   ]
  },
  {
   "cell_type": "code",
   "execution_count": 0,
   "metadata": {
    "colab": {
     "base_uri": "https://localhost:8080/",
     "height": 34
    },
    "colab_type": "code",
    "id": "tdzLL4A_keq3",
    "outputId": "fdbf0d4d-4c27-40b9-e028-f66de6fa72fe"
   },
   "outputs": [
    {
     "name": "stdout",
     "output_type": "stream",
     "text": [
      "('Creating TF.IDF vectors, 3 trials - mean time with caching: ', 18.616979281107586, ', mean time without caching: ', 24.16119869550069)\n"
     ]
    }
   ],
   "source": [
    "#run a small experiment with caching set to True or False, 3 times each\n",
    "\n",
    "from time import time\n",
    "\n",
    "resCaching = [] # for storing results\n",
    "resNoCache = [] # for storing results\n",
    "for i in range(3): # 3 samples\n",
    "#>>>  # start timer\n",
    "    startTime = time()\n",
    "    testRDD1 = normTFIDF(rdd2, testDim, True) # \n",
    "#>>>     # call an action on the RDD to trigger execution\n",
    "#>>>  # end timer\n",
    "    testRDD1.collect()\n",
    "    endTime = time()\n",
    "    resCaching.append( endTime - startTime ) # calculate the time spent\n",
    "    \n",
    "for i in range(3): # 3 samples\n",
    "#>>>  # start timer\n",
    "    startTime = time()\n",
    "    testRDD2 = normTFIDF(rdd2, testDim, False) \n",
    "#>>>  # call an action on the RDD to trigger execution   \n",
    "#>>>  # end timer\n",
    "    testRDD2.collect()\n",
    "    endTime = time()\n",
    "    resNoCache.append( endTime - startTime ) # calculate the time spent\n",
    "    \n",
    "#>>> meanTimeCaching = # calculate average times\n",
    "#>>> meanTimeNoCache = # calculate average times\n",
    "meanTimeCaching = sum(resCaching)/len(resCaching)\n",
    "meanTimeNoCache = sum(resNoCache)/len(resNoCache)\n",
    "print('Creating TF.IDF vectors, 3 trials - mean time with caching: ', meanTimeCaching, ', mean time without caching: ', meanTimeNoCache)\n",
    "#>>> # add your results and comments here "
   ]
  },
  {
   "cell_type": "markdown",
   "metadata": {
    "colab_type": "text",
    "id": "iVVuDT3L5acV"
   },
   "source": [
    "The two mean times are; \n",
    "1) mean time with caching: 18.616979281107586\n",
    "2) mean time without caching: 24.16119869550069  \n",
    "\n",
    "Caching an RDD is a quicker way of giving results without repeating the same actions on each RDD, it is like storing the result instead of re-calculating. Since the average time of non-cached RDD is higher, we can infer from this that wall clock times are accurate and precision level is adequate. If the opposite was true, this would mean that since our Data is textual there is a larger amount of additional meaningless information also the data could have not been understand by the machine because it is unstrcuctured. Increasing the size of the sample would result in an increased difference between the two averages. Also increaseing size of RDD would result in an increased effect of caching times. \n"
   ]
  },
  {
   "cell_type": "markdown",
   "metadata": {
    "colab_type": "text",
    "id": "f-xzB6hrkeq5"
   },
   "source": [
    "## Task 4) Create LabeledPoints \n",
    "\n",
    "Determine whether the file is spam (i.e. the filename contains ’spmsg’) and replace the filename by a 1 (spam) or 0 (non-spam) accordingly. Use `RDD.map()` to create an RDD of LabeledPoint objects. See here [http://spark.apache.org/docs/2.1.0/mllib-linear-methods.html#logistic-regression](http://spark.apache.org/docs/2.1.0/mllib-linear-methods.html#logistic-regression) for an example, and here [http://spark.apache.org/docs/2.1.0/api/python/pyspark.mllib.html#pyspark.mllib.regression.LabeledPoint](http://spark.apache.org/docs/2.1.0/api/python/pyspark.mllib.html#pyspark.mllib.regression.LabeledPoint) for the `LabeledPoint` documentation. (10%)\n",
    "\n",
    "There is a handy function of Python strings called startswith: e.g. 'abc'.startswith('ab) will return true. The relevant Python syntax here is a conditional expression: **``<a> if <yourCondition> else <b>``**, i.e. 1 if the filename starts with 'spmsg' and otherwise 0."
   ]
  },
  {
   "cell_type": "code",
   "execution_count": 0,
   "metadata": {
    "colab": {
     "base_uri": "https://localhost:8080/",
     "height": 34
    },
    "colab_type": "code",
    "id": "wF9BDmnEkeq6",
    "outputId": "eacbc4e4-dc1a-46ed-acfe-6d59759f62a5",
    "pixiedust": {
     "displayParams": {
      "handlerId": "tableView"
     }
    }
   },
   "outputs": [
    {
     "name": "stdout",
     "output_type": "stream",
     "text": [
      "[LabeledPoint(0.0, [0.5982438084217956,0.0,0.21143411637490286,0.10571705818745143,0.0,0.0,0.5677603124560466,0.0,0.5136848171065144,0.0])]\n"
     ]
    }
   ],
   "source": [
    "from pyspark.mllib.regression import LabeledPoint\n",
    "\n",
    "# creatate labelled points of vector size N out of an RDD with normalised (filename [(word,count), ...]) items\n",
    "def makeLabeledPoints(fn_vec_RDD): # RDD and N needed \n",
    "    # we determine the true class as encoded in the filename and represent as 1 (samp) or 0 (good)\n",
    "#>>>    cls_vec_RDD = fn_vec_RDD.map(lambda ... ) # use a conditional expression to get the class label (True or False)\n",
    "    cls_vec_RDD = fn_vec_RDD.map(lambda x: [1 if x[0].startswith('spmsg') == True else 0, x[1]])\n",
    "    # now we can create the LabeledPoint objects with (class,vector) arguments\n",
    "    lp_RDD = cls_vec_RDD.map(lambda cls_vec: LabeledPoint(cls_vec[0],cls_vec[1]) ) \n",
    "    return lp_RDD \n",
    "\n",
    "# for testing\n",
    "testLpRDD = makeLabeledPoints(rdd3) \n",
    "print(testLpRDD.take(1)) \n",
    "# should look similar to this: [LabeledPoint(0.0, [0.0,0.0,0.0,0.0,0.40968062880166006,0.0,0.0,0.0,0.9122290186048,0.0])]"
   ]
  },
  {
   "cell_type": "markdown",
   "metadata": {
    "colab_type": "text",
    "id": "vuLuz17zkeq8"
   },
   "source": [
    "## Task 5) Complete the preprocessing \n",
    "\n",
    "It will be useful to have a single function to do the preprocessing. So integrate everything here. (5%)"
   ]
  },
  {
   "cell_type": "code",
   "execution_count": 0,
   "metadata": {
    "colab": {
     "base_uri": "https://localhost:8080/",
     "height": 139
    },
    "colab_type": "code",
    "id": "h9F8Kl3ukeq9",
    "outputId": "08e27f0a-f469-40c0-e638-799a632ff225"
   },
   "outputs": [
    {
     "name": "stdout",
     "output_type": "stream",
     "text": [
      "[LabeledPoint(0.0, [0.5982438084217956,0.0,0.21143411637490286,0.10571705818745143,0.0,0.0,0.5677603124560466,0.0,0.5136848171065144,0.0])]\n",
      "[PosixPath('lemm/part10'), PosixPath('lemm/part9'), PosixPath('lemm/part8'), PosixPath('lemm/part7'), PosixPath('lemm/part6'), PosixPath('lemm/part5'), PosixPath('lemm/part4'), PosixPath('lemm/part3'), PosixPath('lemm/part2'), PosixPath('lemm/part1')]\n",
      "('len(rddList)', 10)\n",
      "[(u'file:/content/drive/My Drive/BigData/data/lingspam_public/lemm/part9/8-829msg1.txt', u\"Subject: re : 8 . 810 , sum : french loan word , language evolution\\n\\njust see your summary on french loanword in english . i think baugh take the 10 , 0 word figure from jespersen 's _ growth and structure of the english language _ . it would be more like jespersen than baugh to actually try to count them , in fact . it 's worth look at jespersen for all sort of fact like these , in his chapter on the french influence in that book . - - suzanne kemmer\\n\")]\n",
      "[LabeledPoint(0.0, [0.0,0.33733746996604747,0.14684819020709824,0.0,0.0,0.06746749399320949,0.0,0.07987849950638916,0.0,0.1074908031233935,0.14051834307980637,0.0,0.07694027130013734,0.0,0.0930655251695189,0.0,0.0,0.03273557548659654,0.06746749399320949,0.0,0.0,0.0,0.0,0.0,0.03931498880262454,0.12401282473396522,0.0,0.0,0.14239818216982114,0.09802920274151433,0.0,0.0,0.0,0.19271927445224663,0.03692669659249339,0.1800417358365671,0.0,0.07577607531144755,0.05757452619219272,0.0,0.14265534779991018,0.10127768992906885,0.07530887381148635,0.15388054260027467,0.05887811853280926,0.06906358543242942,0.0,0.0,0.0,0.0,0.0,0.06751845995271258,0.0,0.08589752584160325,0.04569764938502928,0.24105328659249173,0.10863895219346482,0.049014601370757166,0.16372668826209777,0.0,0.0,0.0,0.0,0.0,0.1312586304636911,0.0,0.1717950516832065,0.16773906316023907,0.3726972007973626,0.20797189017252088,0.0,0.1330922816728486,0.0,0.10296758437758982,0.0,0.021643926695697455,0.050459453620923626,0.0,0.0,0.09423740071152224,0.0,0.06562931523184555,0.09472009413930944,0.0,0.0,0.07214376973650537,0.0,0.0,0.0,0.04985313597367418,0.07694027130013734,0.0,0.0,0.0,0.14618651186748716,0.0,0.35592583116861026,0.07412005505302732,0.1280406910576879,0.0])]\n",
      "[LabeledPoint(0.0, [0.08419966131730493,0.0585074692978603,0.08339836258490388,0.01961326038015072,0.1887091971777804,0.014449265045130373,0.10684821145174146,0.2137957249634943,0.04467434645887075,0.13558072669712376,0.018970098853671655,0.11681121966509143,0.03337826901870725,0.07821794843667419,0.07208401544259721,0.08881861076588862,0.07249223584510614,0.020319404638660377,0.054726357272593396,0.1093540314309295,0.01198337521884593,0.05483237105813743,0.10389715864531136,0.014918581081536608,0.4495657468645438,0.047535875148443235,0.3232335249659103,0.031036324994193978,0.14183327602538984,0.05898571934027055,0.12476744507809152,0.0,0.045577327340226965,0.1460441470184432,0.02537660367433489,0.1787466226026217,0.07961082359317076,0.02112798879431926,0.09064837952253858,0.12311061877844108,0.08686559015931777,0.05034606260533144,0.0,0.028702109089870677,0.04035699643937669,0.0476728362048978,0.07236924844891886,0.08405352597031575,0.044971304231600395,0.020359620780554696,0.021571649403964447,0.10463130399631762,0.026674656297539606,0.0817762348837512,0.06181220055665255,0.06977039358797729,0.05462492219749309,0.056777605254915174,0.12114024741448713,0.018878538763452937,0.0,0.03434979526740008,0.08713834497750307,0.10669862519015842,0.047868071234575586,0.03417338260883227,0.1369090933648719,0.068934159796127,0.0387341559435751,0.10922502500138581,0.11334760663476608,0.17800341588196728,0.050967884477529035,0.19233009794680353,0.10530975671606631,0.004464907111921632,0.0246306991993549,0.017547476504648295,0.10325699816065978,0.11772729817751072,0.03476552912952753,0.11056240238508147,0.020516334683186085,0.02850609666179924,0.0459843165400493,0.16648976539129381,0.018905547345682477,0.03922652076030144,0.023707943215644258,0.0272759621092257,0.10569727387576112,0.1193596015564814,0.05438415088559962,0.0453527849399844,0.09016686308954604,0.0,0.0,0.016091380558399107,0.0774683118871502,0.112071367960421])]\n"
     ]
    }
   ],
   "source": [
    "# now we can apply the preprocessing chain to the data loaded in task 1 \n",
    "# N is for controlling the vector size\n",
    "def preprocess(rawRDD,N):\n",
    "    \"\"\" take a (filename,text) RDD and transform into LabelledPoint objects \n",
    "        with class labels and a TF.IDF vector with N dimensions. \n",
    "    \"\"\"\n",
    "    tokenRDD = prepareTokenRDD(rawRDD) # task 2\n",
    "    tfIdfRDD = normTFIDF(tokenRDD,N) # task 3\n",
    "    lpRDD = makeLabeledPoints(tfIdfRDD) # task 4\n",
    "    return lpRDD # return RDD with LabeledPoints\n",
    "\n",
    "# and with this we can start the whole process from a directory, N is again the vector size\n",
    "def loadAndPreprocess(directory,N):\n",
    "    \"\"\" load lingspam data from a directory and create a training and test set of preprocessed data \"\"\"\n",
    "#>>>    trainRDD_testRDD = ... # read from the directory using the function created in task 1\n",
    "#>>>     # unpack the returned tuple\n",
    "    trainRDD_testRDD = makeTestTrainRDDs(directory)\n",
    "    (trainRDD,testRDD) = trainRDD_testRDD\n",
    "\n",
    "    return (preprocess(trainRDD,N),preprocess(testRDD,N)) # apply the preprocessing funcion defined above\n",
    "\n",
    "trainLpRDD = preprocess(trainRDD,testDim) # prepare the training data\n",
    "print(testLpRDD.take(1)) # should look similar to previous cell's output\n",
    "\n",
    "train_test_LpRDD = loadAndPreprocess('lemm',100) # let's re-run with another vector size\n",
    "(trainLpRDD,testLpRDD) = train_test_LpRDD \n",
    "print(testLpRDD.take(1))\n",
    "print(trainLpRDD.take(1)) "
   ]
  },
  {
   "cell_type": "markdown",
   "metadata": {
    "colab_type": "text",
    "id": "gdwyXqu4keq_"
   },
   "source": [
    "## Task 6) Train some classifiers \n",
    "\n",
    "Use the `LabeledPoint` objects to train a classifier, specifically the *LogisticRegression*, *Naive Bayes*, and *Support Vector Machine*. Calculate the accuracy of the model on the training set (again, follow this example [http://spark.apache.org/docs/2.1.0/ml-classification-regression.html#logistic-regression](http://spark.apache.org/docs/2.0.0/ml-classification-regression.html#logistic-regression) and here is the documentation for the classifiers [LogisticRegressionWithLBFGS](http://spark.apache.org/docs/2.1.0/api/python/pyspark.mllib.html#pyspark.mllib.classification.LogisticRegressionWithLBFGS), [NaiveBayes](http://spark.apache.org/docs/2.1.0/api/python/pyspark.mllib.html#pyspark.mllib.classification.NaiveBayes), [SVMWithSGD](http://spark.apache.org/docs/2.1.0/api/python/pyspark.mllib.html#pyspark.mllib.classification.SVMWithSGD).  (10%) "
   ]
  },
  {
   "cell_type": "code",
   "execution_count": 0,
   "metadata": {
    "colab": {
     "base_uri": "https://localhost:8080/",
     "height": 119
    },
    "colab_type": "code",
    "id": "Ljcgl0mLkeq_",
    "outputId": "2a942573-78e6-4196-f7cb-15fdcf8562c2"
   },
   "outputs": [
    {
     "name": "stdout",
     "output_type": "stream",
     "text": [
      "Starting to train the model\n",
      "Trained LR (model1)\n",
      "Trained NB (model2)\n",
      "Trained SVM (model3)\n",
      "Accuracy 83.4% (data items: 2604, correct: 2171)\n"
     ]
    },
    {
     "data": {
      "text/plain": [
       "0.8337173579109063"
      ]
     },
     "execution_count": 11,
     "metadata": {
      "tags": []
     },
     "output_type": "execute_result"
    }
   ],
   "source": [
    "from pyspark.mllib.classification import (NaiveBayes, LogisticRegressionWithLBFGS, SVMWithSGD) \n",
    "import numpy\n",
    "\n",
    "# train the model with an (f,[(w,c), ...]) RDD. This is practical as we can reuse the function for TF.IDF\n",
    "def trainModel(lpRDD):\n",
    "    \"\"\" Train 3 classifier models on the given RDD with LabeledPoint objects. A list of trained model is returned. \"\"\"\n",
    "    lpRDD.persist(StorageLevel.MEMORY_ONLY) # not really needed as the Spark implementations ensure caching themselves. \n",
    "                    # Other implementations might not, however. \n",
    "    # Train a classifier model.\n",
    "    print('Starting to train the model') # give some immediate feedback\n",
    "    model1 = LogisticRegressionWithLBFGS.train(lpRDD) # this is the best model\n",
    "    print('Trained LR (model1)')\n",
    "    #print('type(model1)')\n",
    "    model2 = NaiveBayes.train(lpRDD) # doesn't work well\n",
    "    print('Trained NB (model2)')\n",
    "    #print(type(model2))\n",
    "    model3 = SVMWithSGD.train(lpRDD) # or this ...\n",
    "    print('Trained SVM (model3)')\n",
    "    return [model1,model2,model3]\n",
    "\n",
    "def testModel(model, lpRDD):\n",
    "    \"\"\" Tests the classificatio accuracy of the given model on the given RDD with LabeledPoint objects. \"\"\"\n",
    "    lpRDD.persist(StorageLevel.MEMORY_ONLY)\n",
    "    # Make prediction and evaluate training set accuracy.\n",
    "    # Get the prediction and the ground truth label\n",
    "    predictionAndLabel = lpRDD.map(lambda p: (model.predict(p.features), p.label)) # get the prediction and ground truth (label) for each item.\n",
    "    correct = predictionAndLabel.filter(lambda xv: xv[0] == xv[1]).count() # count the correct predictions \n",
    "#>>>    accuracy = ... # and calculate the accuracy \n",
    "    accuracy = float(correct)/float(lpRDD.count())\n",
    "    print('Accuracy {:.1%} (data items: {}, correct: {})'.format(accuracy,lpRDD.count(), correct)) # report to console\n",
    "    return accuracy # and return the value  \n",
    "\n",
    "models = trainModel(trainLpRDD) # just for testing\n",
    "testModel(models[2], trainLpRDD) # just for testing"
   ]
  },
  {
   "cell_type": "markdown",
   "metadata": {
    "colab_type": "text",
    "id": "8TeHFXcTkerC"
   },
   "source": [
    "## Task 7) Automate training and testing\n",
    "\n",
    "We automate now the whole process from reading the files, through preprocessing, and training up to evaluating the models. In the end we have a single function that takes all the parameters we are interested in and produces trained models and an evaluation. (5%) "
   ]
  },
  {
   "cell_type": "code",
   "execution_count": 0,
   "metadata": {
    "colab": {
     "base_uri": "https://localhost:8080/",
     "height": 428
    },
    "colab_type": "code",
    "id": "Kj_Xh5oekerD",
    "outputId": "bd8cba31-6845-4762-f549-12ddbb1c7a76"
   },
   "outputs": [
    {
     "name": "stdout",
     "output_type": "stream",
     "text": [
      "Start loading and preprocessing\n",
      "[PosixPath('lemm/part10'), PosixPath('lemm/part9'), PosixPath('lemm/part8'), PosixPath('lemm/part7'), PosixPath('lemm/part6'), PosixPath('lemm/part5'), PosixPath('lemm/part4'), PosixPath('lemm/part3'), PosixPath('lemm/part2'), PosixPath('lemm/part1')]\n",
      "('len(rddList)', 10)\n",
      "[(u'file:/content/drive/My Drive/BigData/data/lingspam_public/lemm/part9/8-829msg1.txt', u\"Subject: re : 8 . 810 , sum : french loan word , language evolution\\n\\njust see your summary on french loanword in english . i think baugh take the 10 , 0 word figure from jespersen 's _ growth and structure of the english language _ . it would be more like jespersen than baugh to actually try to count them , in fact . it 's worth look at jespersen for all sort of fact like these , in his chapter on the french influence in that book . - - suzanne kemmer\\n\")]\n",
      "Finished loading and preprocessing\n",
      "Starting to train the model\n",
      "Trained LR (model1)\n",
      "Trained NB (model2)\n",
      "Trained SVM (model3)\n",
      "Training\n",
      "Accuracy 100.0% (data items: 2604, correct: 2604)\n",
      "Testing\n",
      "Accuracy 96.9% (data items: 289, correct: 280)\n",
      "Training\n",
      "Accuracy 94.0% (data items: 2604, correct: 2449)\n",
      "Testing\n",
      "Accuracy 92.7% (data items: 289, correct: 268)\n",
      "Training\n",
      "Accuracy 83.4% (data items: 2604, correct: 2171)\n",
      "Testing\n",
      "Accuracy 83.4% (data items: 289, correct: 241)\n"
     ]
    },
    {
     "data": {
      "text/plain": [
       "[[1.0, 0.9404761904761905, 0.8337173579109063],\n",
       " [0.9688581314878892, 0.9273356401384083, 0.8339100346020761]]"
      ]
     },
     "execution_count": 12,
     "metadata": {
      "tags": []
     },
     "output_type": "execute_result"
    }
   ],
   "source": [
    "# this function combines tasks f) and g)\n",
    "# this method should take RDDs with (f,[(w,c), ...])\n",
    "def trainTestModel(trainRDD,testRDD):\n",
    "    \"\"\" Trains 3 models and tests them on training and test data. Returns a matrix the training and testing (rows) accuracy values for all models (columns). \"\"\"\n",
    "#>>> models = ... # train models on the training set\n",
    "    models = trainModel(trainRDD)\n",
    "    results = [[],[]] # matrix for 2 modes (training/test) vs n models (currently 3)\n",
    "    for mdl in models:\n",
    "        print('Training')\n",
    "#>>>     results[0].append(...) # test the model on the training set\n",
    "        results[0].append(testModel(mdl,trainRDD))\n",
    "    \n",
    "        print('Testing')\n",
    "#>>>     #results[1].append(...) # test the model on the test set\n",
    "        results[1].append(testModel(mdl,testRDD))\n",
    "    return results\n",
    "\n",
    "def trainTestFolder(folder,N):\n",
    "    \"\"\" Reads data from a folder, preproceses the data, and trains and evaluates models on it. \"\"\"\n",
    "    print('Start loading and preprocessing') \n",
    "    train_test_LpRDD = loadAndPreprocess(folder,N) # create the RDDs\n",
    "    print('Finished loading and preprocessing')\n",
    "    (trainLpRDD,testLpRDD) = train_test_LpRDD # unpack the RDDs \n",
    "    return trainTestModel(trainLpRDD,testLpRDD) # train and test\n",
    "\n",
    "trainTestFolder('lemm',1000) "
   ]
  },
  {
   "cell_type": "markdown",
   "metadata": {
    "colab_type": "text",
    "id": "pzcNex1NkerF"
   },
   "source": [
    "## Task 8) Run experiments \n",
    "\n",
    "We have now a single function that allows us to vary the vector size easily. Test vector sizes 3, 30, 300, 3000, 30000 and examine the effect on the classification accuracy in Experiment 1.\n",
    "\n",
    "Use the function from Task 7) to test different data types. The dataset has raw text in folder `bare`, lemmatised text in  `lemm` (similar to stemming, reduces to basic word forms), `stop` (with stopwords removed), and `lemm_stop` (lemmatised and stopwords removed). Test how the classification accuracy differs for these four data types in Experiment 2. Collect the results in a data structure that can be saved for later saving and analyis.\n",
    "\n",
    "Comment on the results in a few sentences, considering the differences in performance between the different conditions as well as train an test values. 15%"
   ]
  },
  {
   "cell_type": "code",
   "execution_count": 0,
   "metadata": {
    "colab": {
     "base_uri": "https://localhost:8080/",
     "height": 3454
    },
    "colab_type": "code",
    "id": "HmW_CpetkerG",
    "outputId": "f3298e11-9302-447b-ba44-6ecd604fd467",
    "scrolled": false
   },
   "outputs": [
    {
     "name": "stdout",
     "output_type": "stream",
     "text": [
      "\n",
      "EXPERIMENT 1: Testing different vector sizes\n",
      "N = 3\n",
      "Start loading and preprocessing\n",
      "[PosixPath('bare/part10'), PosixPath('bare/part9'), PosixPath('bare/part8'), PosixPath('bare/part7'), PosixPath('bare/part6'), PosixPath('bare/part5'), PosixPath('bare/part4'), PosixPath('bare/part3'), PosixPath('bare/part2'), PosixPath('bare/part1')]\n",
      "('len(rddList)', 10)\n",
      "[(u'file:/content/drive/My Drive/BigData/data/lingspam_public/bare/part9/8-817msg1.txt', u'Subject: disc : grammar in uk schools\\n\\ni was disturbed to find some traditional fallacies in geoffrey sampson \\'s discussion of the teaching of grammar in schools . though i no longer have a copy of prof . cameron \\'s original post , i do recall the essentials of it , and found that mr . sampson had passed over the valid point it was making in favour of a prescriptivist , \" back to basics \" defense of traditional grammatical education . prof . cameron is perfectly correct in ridiculing the inflexible , rote and prescriptive approach to grammar which is conventionally inflicted on students throughout the english speaking world . the issue of being able to use standard english ( or perhaps _ a _ standard english ) correctly is entirely separate from the reliance on traditional \" rules \" which are frequently unhelpful , and often grossly inaccurate . the rule regarding finishing sentences with prepositions , as one glaring example , is a total misunderstanding of both the history of english , and an unhelpful preoccupation for effective communication . > strikes me as akin to suggesting that teachers of > french should forget about teaching the past participle of \" vivre \" in > favour of getting their pupils to develop considered opinions about > the theories of derrida . though mr . sampson has used an interesting rhetorical image here , it is in fact a false analogy . teaching students to get a feel for the function of grammar and language is a far cry from teaching them gb theory or hpsg . an understanding of how sentences , clauses , verb tenses , adverbs , etc . actually function on a basic level is a very reasonable educational goal , and far more worthy then just creating a bunch of \" do n\\'t \" \\'s and \" never \" \\'s and calling that grammatical education . > beyond that , though , teaching orthography and grammar at school level > has a much broader educational value . one of the lessons we all have > to learn is that nothing big and worthwhile is ever achieved in this > life without careful attention to endless tedious and often arbitrary > details . at the risk of making a gross national stereotype , i feel compelled to quote george bernard shaw : \" the british believe that they are moral when they are merely uncomfortable . \" this notion that education ( or work , for that matter ) must be unpleasant to produce results is a puritanical relic . in my personal experience , the very successful people tend to be precisely the ones who know how to delegate , slough off or avoid wasting time with \" tedious and arbitrary details \" . ( please read the preceding paragraph with the tongue planted in the general vicinity of the cheek . ) in a spirit of greater seriousness though , i would like to second prof . cameron \\'s call to educators to abandon prescriptive , rule-based approaches to grammar , and embrace a more general approach based on a comprehension of more fluid and meaningful principles . i believe that the result would be students with a better grasp of the form and function of language rather than a shallow and inflexible mastery of facile rules . - - - - marc hamann\\n')]\n",
      "Finished loading and preprocessing\n",
      "Starting to train the model\n",
      "Trained LR (model1)\n",
      "Trained NB (model2)\n",
      "Trained SVM (model3)\n",
      "Training\n",
      "Accuracy 83.4% (data items: 2604, correct: 2171)\n",
      "Testing\n",
      "Accuracy 83.4% (data items: 289, correct: 241)\n",
      "Training\n",
      "Accuracy 83.4% (data items: 2604, correct: 2171)\n",
      "Testing\n",
      "Accuracy 83.4% (data items: 289, correct: 241)\n",
      "Training\n",
      "Accuracy 83.4% (data items: 2604, correct: 2171)\n",
      "Testing\n",
      "Accuracy 83.4% (data items: 289, correct: 241)\n",
      "N = 30\n",
      "Start loading and preprocessing\n",
      "[PosixPath('bare/part10'), PosixPath('bare/part9'), PosixPath('bare/part8'), PosixPath('bare/part7'), PosixPath('bare/part6'), PosixPath('bare/part5'), PosixPath('bare/part4'), PosixPath('bare/part3'), PosixPath('bare/part2'), PosixPath('bare/part1')]\n",
      "('len(rddList)', 10)\n",
      "[(u'file:/content/drive/My Drive/BigData/data/lingspam_public/bare/part9/8-817msg1.txt', u'Subject: disc : grammar in uk schools\\n\\ni was disturbed to find some traditional fallacies in geoffrey sampson \\'s discussion of the teaching of grammar in schools . though i no longer have a copy of prof . cameron \\'s original post , i do recall the essentials of it , and found that mr . sampson had passed over the valid point it was making in favour of a prescriptivist , \" back to basics \" defense of traditional grammatical education . prof . cameron is perfectly correct in ridiculing the inflexible , rote and prescriptive approach to grammar which is conventionally inflicted on students throughout the english speaking world . the issue of being able to use standard english ( or perhaps _ a _ standard english ) correctly is entirely separate from the reliance on traditional \" rules \" which are frequently unhelpful , and often grossly inaccurate . the rule regarding finishing sentences with prepositions , as one glaring example , is a total misunderstanding of both the history of english , and an unhelpful preoccupation for effective communication . > strikes me as akin to suggesting that teachers of > french should forget about teaching the past participle of \" vivre \" in > favour of getting their pupils to develop considered opinions about > the theories of derrida . though mr . sampson has used an interesting rhetorical image here , it is in fact a false analogy . teaching students to get a feel for the function of grammar and language is a far cry from teaching them gb theory or hpsg . an understanding of how sentences , clauses , verb tenses , adverbs , etc . actually function on a basic level is a very reasonable educational goal , and far more worthy then just creating a bunch of \" do n\\'t \" \\'s and \" never \" \\'s and calling that grammatical education . > beyond that , though , teaching orthography and grammar at school level > has a much broader educational value . one of the lessons we all have > to learn is that nothing big and worthwhile is ever achieved in this > life without careful attention to endless tedious and often arbitrary > details . at the risk of making a gross national stereotype , i feel compelled to quote george bernard shaw : \" the british believe that they are moral when they are merely uncomfortable . \" this notion that education ( or work , for that matter ) must be unpleasant to produce results is a puritanical relic . in my personal experience , the very successful people tend to be precisely the ones who know how to delegate , slough off or avoid wasting time with \" tedious and arbitrary details \" . ( please read the preceding paragraph with the tongue planted in the general vicinity of the cheek . ) in a spirit of greater seriousness though , i would like to second prof . cameron \\'s call to educators to abandon prescriptive , rule-based approaches to grammar , and embrace a more general approach based on a comprehension of more fluid and meaningful principles . i believe that the result would be students with a better grasp of the form and function of language rather than a shallow and inflexible mastery of facile rules . - - - - marc hamann\\n')]\n",
      "Finished loading and preprocessing\n",
      "Starting to train the model\n",
      "Trained LR (model1)\n",
      "Trained NB (model2)\n",
      "Trained SVM (model3)\n",
      "Training\n",
      "Accuracy 92.0% (data items: 2604, correct: 2396)\n",
      "Testing\n",
      "Accuracy 65.1% (data items: 289, correct: 188)\n",
      "Training\n",
      "Accuracy 83.4% (data items: 2604, correct: 2171)\n",
      "Testing\n",
      "Accuracy 83.4% (data items: 289, correct: 241)\n",
      "Training\n",
      "Accuracy 83.4% (data items: 2604, correct: 2171)\n",
      "Testing\n",
      "Accuracy 83.4% (data items: 289, correct: 241)\n",
      "N = 300\n",
      "Start loading and preprocessing\n",
      "[PosixPath('bare/part10'), PosixPath('bare/part9'), PosixPath('bare/part8'), PosixPath('bare/part7'), PosixPath('bare/part6'), PosixPath('bare/part5'), PosixPath('bare/part4'), PosixPath('bare/part3'), PosixPath('bare/part2'), PosixPath('bare/part1')]\n",
      "('len(rddList)', 10)\n",
      "[(u'file:/content/drive/My Drive/BigData/data/lingspam_public/bare/part9/8-817msg1.txt', u'Subject: disc : grammar in uk schools\\n\\ni was disturbed to find some traditional fallacies in geoffrey sampson \\'s discussion of the teaching of grammar in schools . though i no longer have a copy of prof . cameron \\'s original post , i do recall the essentials of it , and found that mr . sampson had passed over the valid point it was making in favour of a prescriptivist , \" back to basics \" defense of traditional grammatical education . prof . cameron is perfectly correct in ridiculing the inflexible , rote and prescriptive approach to grammar which is conventionally inflicted on students throughout the english speaking world . the issue of being able to use standard english ( or perhaps _ a _ standard english ) correctly is entirely separate from the reliance on traditional \" rules \" which are frequently unhelpful , and often grossly inaccurate . the rule regarding finishing sentences with prepositions , as one glaring example , is a total misunderstanding of both the history of english , and an unhelpful preoccupation for effective communication . > strikes me as akin to suggesting that teachers of > french should forget about teaching the past participle of \" vivre \" in > favour of getting their pupils to develop considered opinions about > the theories of derrida . though mr . sampson has used an interesting rhetorical image here , it is in fact a false analogy . teaching students to get a feel for the function of grammar and language is a far cry from teaching them gb theory or hpsg . an understanding of how sentences , clauses , verb tenses , adverbs , etc . actually function on a basic level is a very reasonable educational goal , and far more worthy then just creating a bunch of \" do n\\'t \" \\'s and \" never \" \\'s and calling that grammatical education . > beyond that , though , teaching orthography and grammar at school level > has a much broader educational value . one of the lessons we all have > to learn is that nothing big and worthwhile is ever achieved in this > life without careful attention to endless tedious and often arbitrary > details . at the risk of making a gross national stereotype , i feel compelled to quote george bernard shaw : \" the british believe that they are moral when they are merely uncomfortable . \" this notion that education ( or work , for that matter ) must be unpleasant to produce results is a puritanical relic . in my personal experience , the very successful people tend to be precisely the ones who know how to delegate , slough off or avoid wasting time with \" tedious and arbitrary details \" . ( please read the preceding paragraph with the tongue planted in the general vicinity of the cheek . ) in a spirit of greater seriousness though , i would like to second prof . cameron \\'s call to educators to abandon prescriptive , rule-based approaches to grammar , and embrace a more general approach based on a comprehension of more fluid and meaningful principles . i believe that the result would be students with a better grasp of the form and function of language rather than a shallow and inflexible mastery of facile rules . - - - - marc hamann\\n')]\n",
      "Finished loading and preprocessing\n",
      "Starting to train the model\n",
      "Trained LR (model1)\n",
      "Trained NB (model2)\n",
      "Trained SVM (model3)\n",
      "Training\n",
      "Accuracy 100.0% (data items: 2604, correct: 2604)\n",
      "Testing\n",
      "Accuracy 96.2% (data items: 289, correct: 278)\n",
      "Training\n",
      "Accuracy 85.3% (data items: 2604, correct: 2220)\n",
      "Testing\n",
      "Accuracy 83.7% (data items: 289, correct: 242)\n",
      "Training\n",
      "Accuracy 83.4% (data items: 2604, correct: 2171)\n",
      "Testing\n",
      "Accuracy 83.4% (data items: 289, correct: 241)\n",
      "N = 3000\n",
      "Start loading and preprocessing\n",
      "[PosixPath('bare/part10'), PosixPath('bare/part9'), PosixPath('bare/part8'), PosixPath('bare/part7'), PosixPath('bare/part6'), PosixPath('bare/part5'), PosixPath('bare/part4'), PosixPath('bare/part3'), PosixPath('bare/part2'), PosixPath('bare/part1')]\n",
      "('len(rddList)', 10)\n",
      "[(u'file:/content/drive/My Drive/BigData/data/lingspam_public/bare/part9/8-817msg1.txt', u'Subject: disc : grammar in uk schools\\n\\ni was disturbed to find some traditional fallacies in geoffrey sampson \\'s discussion of the teaching of grammar in schools . though i no longer have a copy of prof . cameron \\'s original post , i do recall the essentials of it , and found that mr . sampson had passed over the valid point it was making in favour of a prescriptivist , \" back to basics \" defense of traditional grammatical education . prof . cameron is perfectly correct in ridiculing the inflexible , rote and prescriptive approach to grammar which is conventionally inflicted on students throughout the english speaking world . the issue of being able to use standard english ( or perhaps _ a _ standard english ) correctly is entirely separate from the reliance on traditional \" rules \" which are frequently unhelpful , and often grossly inaccurate . the rule regarding finishing sentences with prepositions , as one glaring example , is a total misunderstanding of both the history of english , and an unhelpful preoccupation for effective communication . > strikes me as akin to suggesting that teachers of > french should forget about teaching the past participle of \" vivre \" in > favour of getting their pupils to develop considered opinions about > the theories of derrida . though mr . sampson has used an interesting rhetorical image here , it is in fact a false analogy . teaching students to get a feel for the function of grammar and language is a far cry from teaching them gb theory or hpsg . an understanding of how sentences , clauses , verb tenses , adverbs , etc . actually function on a basic level is a very reasonable educational goal , and far more worthy then just creating a bunch of \" do n\\'t \" \\'s and \" never \" \\'s and calling that grammatical education . > beyond that , though , teaching orthography and grammar at school level > has a much broader educational value . one of the lessons we all have > to learn is that nothing big and worthwhile is ever achieved in this > life without careful attention to endless tedious and often arbitrary > details . at the risk of making a gross national stereotype , i feel compelled to quote george bernard shaw : \" the british believe that they are moral when they are merely uncomfortable . \" this notion that education ( or work , for that matter ) must be unpleasant to produce results is a puritanical relic . in my personal experience , the very successful people tend to be precisely the ones who know how to delegate , slough off or avoid wasting time with \" tedious and arbitrary details \" . ( please read the preceding paragraph with the tongue planted in the general vicinity of the cheek . ) in a spirit of greater seriousness though , i would like to second prof . cameron \\'s call to educators to abandon prescriptive , rule-based approaches to grammar , and embrace a more general approach based on a comprehension of more fluid and meaningful principles . i believe that the result would be students with a better grasp of the form and function of language rather than a shallow and inflexible mastery of facile rules . - - - - marc hamann\\n')]\n",
      "Finished loading and preprocessing\n",
      "Starting to train the model\n",
      "Trained LR (model1)\n",
      "Trained NB (model2)\n",
      "Trained SVM (model3)\n",
      "Training\n",
      "Accuracy 100.0% (data items: 2604, correct: 2604)\n",
      "Testing\n",
      "Accuracy 97.9% (data items: 289, correct: 283)\n",
      "Training\n",
      "Accuracy 96.7% (data items: 2604, correct: 2517)\n",
      "Testing\n",
      "Accuracy 96.2% (data items: 289, correct: 278)\n",
      "Training\n",
      "Accuracy 83.4% (data items: 2604, correct: 2171)\n",
      "Testing\n",
      "Accuracy 83.4% (data items: 289, correct: 241)\n",
      "N = 30000\n",
      "Start loading and preprocessing\n",
      "[PosixPath('bare/part10'), PosixPath('bare/part9'), PosixPath('bare/part8'), PosixPath('bare/part7'), PosixPath('bare/part6'), PosixPath('bare/part5'), PosixPath('bare/part4'), PosixPath('bare/part3'), PosixPath('bare/part2'), PosixPath('bare/part1')]\n",
      "('len(rddList)', 10)\n",
      "[(u'file:/content/drive/My Drive/BigData/data/lingspam_public/bare/part9/8-817msg1.txt', u'Subject: disc : grammar in uk schools\\n\\ni was disturbed to find some traditional fallacies in geoffrey sampson \\'s discussion of the teaching of grammar in schools . though i no longer have a copy of prof . cameron \\'s original post , i do recall the essentials of it , and found that mr . sampson had passed over the valid point it was making in favour of a prescriptivist , \" back to basics \" defense of traditional grammatical education . prof . cameron is perfectly correct in ridiculing the inflexible , rote and prescriptive approach to grammar which is conventionally inflicted on students throughout the english speaking world . the issue of being able to use standard english ( or perhaps _ a _ standard english ) correctly is entirely separate from the reliance on traditional \" rules \" which are frequently unhelpful , and often grossly inaccurate . the rule regarding finishing sentences with prepositions , as one glaring example , is a total misunderstanding of both the history of english , and an unhelpful preoccupation for effective communication . > strikes me as akin to suggesting that teachers of > french should forget about teaching the past participle of \" vivre \" in > favour of getting their pupils to develop considered opinions about > the theories of derrida . though mr . sampson has used an interesting rhetorical image here , it is in fact a false analogy . teaching students to get a feel for the function of grammar and language is a far cry from teaching them gb theory or hpsg . an understanding of how sentences , clauses , verb tenses , adverbs , etc . actually function on a basic level is a very reasonable educational goal , and far more worthy then just creating a bunch of \" do n\\'t \" \\'s and \" never \" \\'s and calling that grammatical education . > beyond that , though , teaching orthography and grammar at school level > has a much broader educational value . one of the lessons we all have > to learn is that nothing big and worthwhile is ever achieved in this > life without careful attention to endless tedious and often arbitrary > details . at the risk of making a gross national stereotype , i feel compelled to quote george bernard shaw : \" the british believe that they are moral when they are merely uncomfortable . \" this notion that education ( or work , for that matter ) must be unpleasant to produce results is a puritanical relic . in my personal experience , the very successful people tend to be precisely the ones who know how to delegate , slough off or avoid wasting time with \" tedious and arbitrary details \" . ( please read the preceding paragraph with the tongue planted in the general vicinity of the cheek . ) in a spirit of greater seriousness though , i would like to second prof . cameron \\'s call to educators to abandon prescriptive , rule-based approaches to grammar , and embrace a more general approach based on a comprehension of more fluid and meaningful principles . i believe that the result would be students with a better grasp of the form and function of language rather than a shallow and inflexible mastery of facile rules . - - - - marc hamann\\n')]\n",
      "Finished loading and preprocessing\n",
      "Starting to train the model\n",
      "Trained LR (model1)\n",
      "Trained NB (model2)\n",
      "Trained SVM (model3)\n",
      "Training\n",
      "Accuracy 100.0% (data items: 2604, correct: 2604)\n",
      "Testing\n",
      "Accuracy 97.6% (data items: 289, correct: 282)\n",
      "Training\n",
      "Accuracy 86.8% (data items: 2604, correct: 2259)\n",
      "Testing\n",
      "Accuracy 83.4% (data items: 289, correct: 241)\n",
      "Training\n",
      "Accuracy 83.4% (data items: 2604, correct: 2172)\n",
      "Testing\n",
      "Accuracy 83.4% (data items: 289, correct: 241)\n",
      "EXPERIMENT 2: Testing different data types\n",
      "Path = bare\n",
      "Start loading and preprocessing\n",
      "[PosixPath('bare/part10'), PosixPath('bare/part9'), PosixPath('bare/part8'), PosixPath('bare/part7'), PosixPath('bare/part6'), PosixPath('bare/part5'), PosixPath('bare/part4'), PosixPath('bare/part3'), PosixPath('bare/part2'), PosixPath('bare/part1')]\n",
      "('len(rddList)', 10)\n",
      "[(u'file:/content/drive/My Drive/BigData/data/lingspam_public/bare/part9/8-817msg1.txt', u'Subject: disc : grammar in uk schools\\n\\ni was disturbed to find some traditional fallacies in geoffrey sampson \\'s discussion of the teaching of grammar in schools . though i no longer have a copy of prof . cameron \\'s original post , i do recall the essentials of it , and found that mr . sampson had passed over the valid point it was making in favour of a prescriptivist , \" back to basics \" defense of traditional grammatical education . prof . cameron is perfectly correct in ridiculing the inflexible , rote and prescriptive approach to grammar which is conventionally inflicted on students throughout the english speaking world . the issue of being able to use standard english ( or perhaps _ a _ standard english ) correctly is entirely separate from the reliance on traditional \" rules \" which are frequently unhelpful , and often grossly inaccurate . the rule regarding finishing sentences with prepositions , as one glaring example , is a total misunderstanding of both the history of english , and an unhelpful preoccupation for effective communication . > strikes me as akin to suggesting that teachers of > french should forget about teaching the past participle of \" vivre \" in > favour of getting their pupils to develop considered opinions about > the theories of derrida . though mr . sampson has used an interesting rhetorical image here , it is in fact a false analogy . teaching students to get a feel for the function of grammar and language is a far cry from teaching them gb theory or hpsg . an understanding of how sentences , clauses , verb tenses , adverbs , etc . actually function on a basic level is a very reasonable educational goal , and far more worthy then just creating a bunch of \" do n\\'t \" \\'s and \" never \" \\'s and calling that grammatical education . > beyond that , though , teaching orthography and grammar at school level > has a much broader educational value . one of the lessons we all have > to learn is that nothing big and worthwhile is ever achieved in this > life without careful attention to endless tedious and often arbitrary > details . at the risk of making a gross national stereotype , i feel compelled to quote george bernard shaw : \" the british believe that they are moral when they are merely uncomfortable . \" this notion that education ( or work , for that matter ) must be unpleasant to produce results is a puritanical relic . in my personal experience , the very successful people tend to be precisely the ones who know how to delegate , slough off or avoid wasting time with \" tedious and arbitrary details \" . ( please read the preceding paragraph with the tongue planted in the general vicinity of the cheek . ) in a spirit of greater seriousness though , i would like to second prof . cameron \\'s call to educators to abandon prescriptive , rule-based approaches to grammar , and embrace a more general approach based on a comprehension of more fluid and meaningful principles . i believe that the result would be students with a better grasp of the form and function of language rather than a shallow and inflexible mastery of facile rules . - - - - marc hamann\\n')]\n",
      "Finished loading and preprocessing\n",
      "Starting to train the model\n",
      "Trained LR (model1)\n",
      "Trained NB (model2)\n",
      "Trained SVM (model3)\n",
      "Training\n",
      "Accuracy 100.0% (data items: 2604, correct: 2604)\n",
      "Testing\n",
      "Accuracy 97.9% (data items: 289, correct: 283)\n",
      "Training\n",
      "Accuracy 96.7% (data items: 2604, correct: 2517)\n",
      "Testing\n",
      "Accuracy 96.2% (data items: 289, correct: 278)\n",
      "Training\n",
      "Accuracy 83.4% (data items: 2604, correct: 2171)\n",
      "Testing\n",
      "Accuracy 83.4% (data items: 289, correct: 241)\n",
      "Path = stop\n",
      "Start loading and preprocessing\n",
      "[PosixPath('stop/part10'), PosixPath('stop/part9'), PosixPath('stop/part8'), PosixPath('stop/part7'), PosixPath('stop/part6'), PosixPath('stop/part5'), PosixPath('stop/part4'), PosixPath('stop/part3'), PosixPath('stop/part2'), PosixPath('stop/part1')]\n",
      "('len(rddList)', 10)\n",
      "[(u'file:/content/drive/My Drive/BigData/data/lingspam_public/stop/part9/8-817msg1.txt', u'Subject: disc : grammar uk schools\\n\\nwas disturbed traditional fallacies geoffrey sampson \\'s discussion teaching grammar schools . though longer copy prof . cameron \\'s original post , recall essentials , found mr . sampson had passed over valid point was making favour prescriptivist , \" back basics \" defense traditional grammatical education . prof . cameron is perfectly correct ridiculing inflexible , rote prescriptive approach grammar is conventionally inflicted students throughout english speaking world . issue being able standard english ( perhaps _ _ standard english ) correctly is entirely separate reliance traditional \" rules \" are frequently unhelpful , often grossly inaccurate . rule regarding finishing sentences prepositions , one glaring example , is total misunderstanding both history english , unhelpful preoccupation effective communication . > strikes akin suggesting teachers > french forget teaching past participle \" vivre \" > favour getting pupils develop considered opinions > theories derrida . though mr . sampson has used interesting rhetorical image here , is fact false analogy . teaching students feel function grammar language is far cry teaching gb theory hpsg . understanding sentences , clauses , verb tenses , adverbs , etc . actually function basic level is reasonable educational goal , far worthy creating bunch \" n\\'t \" \\'s \" never \" \\'s calling grammatical education . > beyond , though , teaching orthography grammar school level > has much broader educational value . one lessons > learn is nothing big worthwhile is ever achieved > life without careful attention endless tedious often arbitrary > details . risk making gross national stereotype , feel compelled quote george bernard shaw : \" british believe are moral are merely uncomfortable . \" notion education ( work , matter ) must unpleasant produce results is puritanical relic . personal experience , successful tend precisely ones delegate , slough off avoid wasting \" tedious arbitrary details \" . ( please read preceding paragraph tongue planted general vicinity cheek . ) spirit greater seriousness though , second prof . cameron \\'s call educators abandon prescriptive , rule-based approaches grammar , embrace general approach based comprehension fluid meaningful principles . believe result students better grasp form function language rather shallow inflexible mastery facile rules . - - - - marc hamann\\n')]\n",
      "Finished loading and preprocessing\n",
      "Starting to train the model\n",
      "Trained LR (model1)\n",
      "Trained NB (model2)\n",
      "Trained SVM (model3)\n",
      "Training\n",
      "Accuracy 100.0% (data items: 2604, correct: 2604)\n",
      "Testing\n",
      "Accuracy 96.9% (data items: 289, correct: 280)\n",
      "Training\n",
      "Accuracy 96.3% (data items: 2604, correct: 2508)\n",
      "Testing\n",
      "Accuracy 95.2% (data items: 289, correct: 275)\n",
      "Training\n",
      "Accuracy 83.4% (data items: 2604, correct: 2171)\n",
      "Testing\n",
      "Accuracy 83.4% (data items: 289, correct: 241)\n",
      "Path = lemm\n",
      "Start loading and preprocessing\n",
      "[PosixPath('lemm/part10'), PosixPath('lemm/part9'), PosixPath('lemm/part8'), PosixPath('lemm/part7'), PosixPath('lemm/part6'), PosixPath('lemm/part5'), PosixPath('lemm/part4'), PosixPath('lemm/part3'), PosixPath('lemm/part2'), PosixPath('lemm/part1')]\n",
      "('len(rddList)', 10)\n",
      "[(u'file:/content/drive/My Drive/BigData/data/lingspam_public/lemm/part9/8-829msg1.txt', u\"Subject: re : 8 . 810 , sum : french loan word , language evolution\\n\\njust see your summary on french loanword in english . i think baugh take the 10 , 0 word figure from jespersen 's _ growth and structure of the english language _ . it would be more like jespersen than baugh to actually try to count them , in fact . it 's worth look at jespersen for all sort of fact like these , in his chapter on the french influence in that book . - - suzanne kemmer\\n\")]\n",
      "Finished loading and preprocessing\n",
      "Starting to train the model\n",
      "Trained LR (model1)\n",
      "Trained NB (model2)\n",
      "Trained SVM (model3)\n",
      "Training\n",
      "Accuracy 100.0% (data items: 2604, correct: 2604)\n",
      "Testing\n",
      "Accuracy 96.9% (data items: 289, correct: 280)\n",
      "Training\n",
      "Accuracy 96.9% (data items: 2604, correct: 2523)\n",
      "Testing\n",
      "Accuracy 95.5% (data items: 289, correct: 276)\n",
      "Training\n",
      "Accuracy 83.4% (data items: 2604, correct: 2171)\n",
      "Testing\n",
      "Accuracy 83.4% (data items: 289, correct: 241)\n",
      "Path = lemm_stop\n",
      "Start loading and preprocessing\n",
      "[PosixPath('lemm_stop/part10'), PosixPath('lemm_stop/part9'), PosixPath('lemm_stop/part8'), PosixPath('lemm_stop/part7'), PosixPath('lemm_stop/part6'), PosixPath('lemm_stop/part5'), PosixPath('lemm_stop/part4'), PosixPath('lemm_stop/part3'), PosixPath('lemm_stop/part2'), PosixPath('lemm_stop/part1')]\n",
      "('len(rddList)', 10)\n",
      "[(u'file:/content/drive/My Drive/BigData/data/lingspam_public/lemm_stop/part9/8-859msg1.txt', u'Subject: re : 8 . 836 , disc : punctuation\\n\\nseveral posting recently decry apostrophe- english plural form , e . g . \" dyslexic \\'s \" , \" sonata \\'s \" . grounds hold bid english ? everyone else , learn school apostrophe english plural except few exceptional case numeral letter ( \" 1990 \\'s \" , \" three \\'s \" ) . usage seem fashion recently , apostroph practice widely sort plural form , seem long history least foreign unusual word - \\' ve notice apostrophise plural facsimile several seventeenth century book recently . exactly grounds condemn usage ? john phillip\\n')]\n",
      "Finished loading and preprocessing\n",
      "Starting to train the model\n",
      "Trained LR (model1)\n",
      "Trained NB (model2)\n",
      "Trained SVM (model3)\n",
      "Training\n",
      "Accuracy 100.0% (data items: 2604, correct: 2604)\n",
      "Testing\n",
      "Accuracy 96.5% (data items: 289, correct: 279)\n",
      "Training\n",
      "Accuracy 96.4% (data items: 2604, correct: 2511)\n",
      "Testing\n",
      "Accuracy 94.8% (data items: 289, correct: 274)\n",
      "Training\n",
      "Accuracy 83.4% (data items: 2604, correct: 2171)\n",
      "Testing\n",
      "Accuracy 83.4% (data items: 289, correct: 241)\n"
     ]
    }
   ],
   "source": [
    "from pyspark.sql import DataFrame\n",
    "\n",
    "folder = 'bare'\n",
    "N = numpy.array([3,30,300,3000,30000]) \n",
    "print('\\nEXPERIMENT 1: Testing different vector sizes')\n",
    "results = []\n",
    "for n in N:\n",
    "    print('N = {}'.format(n))\n",
    "    result = {'n':n, 't':folder}\n",
    "    result['acc'] = trainTestFolder(folder,n)\n",
    "    results.append(result)\n",
    "\n",
    "    \n",
    "n = 3000\n",
    "typeFolders = ['bare','stop','lemm','lemm_stop']\n",
    "print('EXPERIMENT 2: Testing different data types')\n",
    "results2 = []\n",
    "for folder in typeFolders:\n",
    "    print('Path = {}'.format(folder))\n",
    "    result = {'n':n, 't':folder}\n",
    "    result['acc'] = trainTestFolder(folder,n)\n",
    "    results2.append(result)\n",
    "\n",
    "# Add comments on the performance in a cell below. "
   ]
  },
  {
   "cell_type": "markdown",
   "metadata": {
    "colab_type": "text",
    "id": "J3CwZNFFnReG"
   },
   "source": []
  },
  {
   "cell_type": "markdown",
   "metadata": {
    "colab_type": "text",
    "id": "oz8TaH3cBG88"
   },
   "source": [
    "##Logistic Regression:  \n",
    "Increasing the vector size results in an increase in both the testing and training accuracy. For n = 30 000, LR reaches an impressive 100% for training accuracy.  \n",
    "\n",
    "### Naive Bayes: \n",
    "An increasing in vector size yields an increase in both trianing and testing accuracey, at n = 30000, training accurecy is at 86.8%. \n",
    "\n",
    "##SVM: \n",
    "SVM seems to be uneffected by vector size; at n = 3 and n = 30000, both training and testing accuracy is at 83.4%. \n",
    "\n",
    "## Model Performance: \n",
    "\n",
    "Logistic Regression outperformes Naive Bayes and SVM for allmost all data sizes, i.e. n and for different experients. Also for each model, training accuracy is higher than testing accuracy. at n = 3, all three model's training and testing accuracy is at 83.4%. The rule is; an increase in vector size should give an increase in classification accuracey which proofs to be the case above, this is due to the effect of hashing. \n",
    "\n",
    "## Vector Size: \n",
    "An increase in vector size should yield an increase in training/testing accuracy as hashing maps each word in text to a positin in a vector which leads to data being spread out and hence collisions become less fequent. collisions should be avoided as they cause misclassifications. \n",
    "\n",
    "###Data Size \n",
    "Classifiers can yield very accurate results if more data is used. Banko and Brill (2001) proof that having less  than one million words in a text can cause greater variation in the performance of classifiers, this sheds light on why SVM's accuracy did not improve and on the difference between LR and NB.  \n"
   ]
  },
  {
   "cell_type": "markdown",
   "metadata": {
    "colab_type": "text",
    "id": "NwKC_byOrux1"
   },
   "source": []
  }
 ],
 "metadata": {
  "colab": {
   "collapsed_sections": [],
   "name": "Coursework-Part1.ipynb-Abdirahman Khanog-MSc-Data-Science",
   "provenance": [],
   "version": "0.3.2"
  },
  "kernelspec": {
   "display_name": "Python 3",
   "language": "python",
   "name": "python3"
  },
  "language_info": {
   "codemirror_mode": {
    "name": "ipython",
    "version": 3
   },
   "file_extension": ".py",
   "mimetype": "text/x-python",
   "name": "python",
   "nbconvert_exporter": "python",
   "pygments_lexer": "ipython3",
   "version": "3.7.4"
  }
 },
 "nbformat": 4,
 "nbformat_minor": 1
}
